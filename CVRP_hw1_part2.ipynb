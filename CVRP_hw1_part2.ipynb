{
 "cells": [
  {
   "cell_type": "markdown",
   "id": "f978797a-af95-48d4-a364-210e090148bd",
   "metadata": {
    "id": "f978797a-af95-48d4-a364-210e090148bd"
   },
   "source": [
    "## Part 2: Finetuning pretrained CNN on the downstream task\n",
    "In this part, you will finetune a pretrained CNN model to another task. Finetuning is powerful with the following strengths:\n",
    "1. **Faster training** : It starts with pre-trained weights which allow the model to converge faster than training from scratch.\n",
    "2. **Domain Adaptation** : Fine-tuning is effective for adapting a model trained on one domain to another.\n",
    "3. **Transfer Learning**...and more\n",
    "\n",
    "In this part, you will finetune on BDD weather classifcation dataset, more details here: https://www.kaggle.com/datasets/marquis03/bdd100k-weather-classification"
   ]
  },
  {
   "cell_type": "markdown",
   "id": "ee3ccc96-3293-4098-a10f-7df1ab286ec0",
   "metadata": {
    "id": "ee3ccc96-3293-4098-a10f-7df1ab286ec0"
   },
   "source": [
    "### Tasks\n",
    "1. Follow the steps and complete your finetuning procedure\n",
    "2. Compare the training/val loss/accuracy curve between training from scratch and finetuning\n",
    "3. Plot the confusion matrix for two cases"
   ]
  },
  {
   "cell_type": "code",
   "execution_count": 1,
   "id": "47cb152e-6614-4eba-bb89-c45d26d803d8",
   "metadata": {
    "id": "47cb152e-6614-4eba-bb89-c45d26d803d8"
   },
   "outputs": [],
   "source": [
    "import numpy as np\n",
    "import torch\n",
    "import torch.nn as nn\n",
    "import torch.optim as optim\n",
    "from torchvision import datasets, transforms, models\n",
    "from torch.utils.data import DataLoader, random_split\n",
    "from torch import Tensor\n",
    "from typing import Type\n",
    "from torchvision.datasets import ImageFolder\n",
    "\n",
    "# Visualizations\n",
    "import matplotlib.pyplot as plt\n",
    "import seaborn as sns\n",
    "from sklearn.metrics import confusion_matrix\n",
    "import os\n",
    "import pdb\n",
    "\n",
    "import kagglehub"
   ]
  },
  {
   "cell_type": "markdown",
   "id": "a46e6218-1304-4577-a32a-82e70a2de708",
   "metadata": {
    "id": "a46e6218-1304-4577-a32a-82e70a2de708"
   },
   "source": [
    "### [0 points] Step 1: Download the BDD100K weather classification dataset from Kaggle\n",
    "Please DO NOT modify this cell."
   ]
  },
  {
   "cell_type": "code",
   "execution_count": 2,
   "id": "62846eee-512f-472c-bb25-27c9d9fbcf72",
   "metadata": {
    "id": "62846eee-512f-472c-bb25-27c9d9fbcf72"
   },
   "outputs": [
    {
     "name": "stdout",
     "output_type": "stream",
     "text": [
      "Path to dataset files: /home/saijaideepreddymure/.cache/kagglehub/datasets/marquis03/bdd100k-weather-classification/versions/1\n"
     ]
    }
   ],
   "source": [
    "# Download BDD weather classification dataset\n",
    "base_dir = kagglehub.dataset_download(\"marquis03/bdd100k-weather-classification\")\n",
    "print(\"Path to dataset files:\", base_dir)\n",
    "train_dir = os.path.join(base_dir, 'train')\n",
    "test_dir = os.path.join(base_dir, 'val')\n",
    "\n",
    "# Set device\n",
    "device = torch.device(\"cuda\" if torch.cuda.is_available() else \"cpu\")"
   ]
  },
  {
   "cell_type": "markdown",
   "id": "4537bac6-c63b-4255-8f18-c8875af7b36a",
   "metadata": {
    "id": "4537bac6-c63b-4255-8f18-c8875af7b36a"
   },
   "source": [
    "### [5 points] Step 2: Create the data loader, and split it to train/val\n",
    "\n",
    "Basically this step is the same as you did in Part 1.\n",
    "Remember to change the ```num_classes``` to 7, and we will only train for 10 epochs.\n",
    "\n",
    "1. The original folder structure is: \\\n",
    "   ├── train \\\n",
    "│   ├── labels (such as clear, foggy...) \\\n",
    "│   │   ├── *****.jpg \\\n",
    "│   │   ├── *****.jpg \\\n",
    "│   │   ├── ... \\\n",
    "   It is highly recommended to use ```dataset.ImageFolder``` to load the data!\n",
    "2. To check how to transform your data, check here: https://pytorch.org/vision/main/transforms.html\n",
    "3. Later when you train the model, you might need to tune hyperparameters. For example, you may not want the fixed learning rate.\n"
   ]
  },
  {
   "cell_type": "code",
   "execution_count": 13,
   "id": "0dfb590a-ba10-450f-95f0-b0f97236de95",
   "metadata": {
    "id": "0dfb590a-ba10-450f-95f0-b0f97236de95"
   },
   "outputs": [],
   "source": [
    "image_size = 64\n",
    "learning_rate = 0.01\n",
    "batch_size = 32\n",
    "num_epochs =10\n",
    "num_classes = 7 \n",
    "\n",
    "train_transforms = transforms.Compose([\n",
    "    transforms.Resize((image_size,image_size)),\n",
    "    transforms.ToTensor()\n",
    "])\n",
    "test_transform = transforms.Compose([\n",
    "    transforms.Resize((image_size,image_size)),\n",
    "    transforms.ToTensor()\n",
    "])\n",
    "\n",
    "train_data = ImageFolder(root = train_dir,transform = train_transforms)\n",
    "test_data = ImageFolder(root = test_dir,transform = test_transform)\n",
    "\n",
    "train_size = int(0.8 * len(train_data))\n",
    "val_size = len(train_data) - train_size\n",
    "train_data, val_data = random_split(train_data,[train_size,val_size])\n",
    "\n",
    "\n",
    "train_loader = DataLoader(train_data, batch_size=batch_size, shuffle=True)\n",
    "val_loader = DataLoader(val_data, batch_size=batch_size, shuffle=False)\n",
    "test_loader = DataLoader(test_data, batch_size=batch_size, shuffle=False)\n"
   ]
  },
  {
   "cell_type": "markdown",
   "id": "16a6161a-ad45-491a-a2fe-a1ca9a97497c",
   "metadata": {
    "id": "16a6161a-ad45-491a-a2fe-a1ca9a97497c"
   },
   "source": [
    "### [5 points] Step 3: Copy your CNN model and training function in Part 1 after this cell"
   ]
  },
  {
   "cell_type": "code",
   "execution_count": 4,
   "id": "a8d87317-a7c5-44ce-bc6f-7325b9d6780f",
   "metadata": {
    "id": "a8d87317-a7c5-44ce-bc6f-7325b9d6780f"
   },
   "outputs": [],
   "source": [
    "import torch\n",
    "import torch.nn as nn\n",
    "\n",
    "class yourCNN(nn.Module):\n",
    "    def __init__(self, num_classes=200):\n",
    "        super(yourCNN, self).__init__()\n",
    "\n",
    "        self.conv_layers = nn.Sequential(\n",
    "            nn.Conv2d(3, 32, kernel_size=3, padding=1),\n",
    "            nn.ReLU(),\n",
    "            nn.Conv2d(32, 64, kernel_size=3, padding=1),\n",
    "            nn.BatchNorm2d(64),\n",
    "            nn.ReLU(),\n",
    "            nn.MaxPool2d(kernel_size=2, stride=2),\n",
    "\n",
    "            nn.Conv2d(64, 128, kernel_size=3, padding=1),\n",
    "            nn.BatchNorm2d(128),\n",
    "            nn.ReLU(),\n",
    "            nn.MaxPool2d(kernel_size=2, stride=2),\n",
    "\n",
    "            nn.Conv2d(128, 256, kernel_size=3, padding=1),\n",
    "            nn.BatchNorm2d(256),\n",
    "            nn.ReLU(),\n",
    "            nn.MaxPool2d(kernel_size=2, stride=2),\n",
    "\n",
    "            nn.Conv2d(256, 512, kernel_size=3, padding=1),\n",
    "            nn.BatchNorm2d(512),\n",
    "            nn.ReLU(),\n",
    "            nn.MaxPool2d(kernel_size=2, stride=2),\n",
    "\n",
    "            nn.Conv2d(512, 512, kernel_size=3, padding=1),\n",
    "            nn.BatchNorm2d(512),\n",
    "            nn.ReLU(),\n",
    "            nn.MaxPool2d(kernel_size=2, stride=2)\n",
    "        )\n",
    "\n",
    "        self.fc_layers = nn.Sequential(\n",
    "            nn.AdaptiveAvgPool2d(1),  # Global pooling\n",
    "            nn.Flatten(),\n",
    "            nn.Linear(512, 1024),\n",
    "            nn.ReLU(),\n",
    "            nn.Dropout(0.5),\n",
    "            nn.Linear(1024, 512),\n",
    "            nn.ReLU(),\n",
    "            nn.Dropout(0.5),\n",
    "            nn.Linear(512, num_classes)\n",
    "        )\n",
    "\n",
    "    def forward(self, x):\n",
    "        x = self.conv_layers(x)\n",
    "        x = self.fc_layers(x)\n",
    "        return x\n",
    "\n",
    " \n"
   ]
  },
  {
   "cell_type": "code",
   "execution_count": 5,
   "id": "6f18bce9",
   "metadata": {},
   "outputs": [],
   "source": [
    "model = yourCNN(num_classes = num_classes).to(device)\n",
    "criterion = nn.CrossEntropyLoss()\n",
    "optimizer = optim.Adam(model.parameters(), lr=learning_rate)"
   ]
  },
  {
   "cell_type": "markdown",
   "id": "c8dadc88-8e2c-43fc-a9e6-a6d0f93ef9aa",
   "metadata": {
    "id": "c8dadc88-8e2c-43fc-a9e6-a6d0f93ef9aa"
   },
   "source": [
    "### [15 points] Step 4: Compare the difference of finetuning from pretrained model and training from scratch\n",
    "1. You will need to finetune two models. The first is the model trained from scratch with the BDD dataset, and another is finetuning from pretrained model.\n",
    "2. For training from scratch, it is almost the same procedure as in Part 1, but the dataset changes.\n",
    "3. For finetuning, the procedure is:\n",
    "   * Initialize the model and load the pretrained model using ```torch.load()```, remember that we saved the trained model in Part 1!\n",
    "   * The output of original CNN is 200 classes, you might need to reinitialize the model to output 7 classes by replacing the last fc layer\n",
    "   * More details : https://pytorch.org/tutorials/beginner/basics/saveloadrun_tutorial.html"
   ]
  },
  {
   "cell_type": "code",
   "execution_count": 6,
   "id": "9cf205b5",
   "metadata": {},
   "outputs": [],
   "source": [
    "### Training function\n",
    "def train_model(model, train_loader, val_loader, criterion, optimizer, num_epochs=num_epochs):\n",
    "    train_losses = []\n",
    "    val_losses = []\n",
    "    train_accuracies = []\n",
    "    val_accuracies = []\n",
    "\n",
    "    for epoch in range(num_epochs):\n",
    "        model.train()\n",
    "        #############################################################\n",
    "        #                      Your code here                       #\n",
    "        #############################################################\n",
    "        train_loss = 0.0\n",
    "        train_accuracy = 0.0\n",
    "        for images, labels in train_loader:\n",
    "            images, labels = images.to(device), labels.to(device)\n",
    "            optimizer.zero_grad()\n",
    "            outputs = model(images)\n",
    "            loss = criterion(outputs, labels)\n",
    "            loss.backward()\n",
    "            optimizer.step()\n",
    "            train_loss += loss.item()\n",
    "            _, predicted = torch.max(outputs.data, 1)\n",
    "            train_accuracy += (predicted == labels).sum().item() / len(labels) # Calculate accuracy for the batch\n",
    "        print(f\"Epoch {epoch+1}/{num_epochs}, Loss: {train_loss/len(train_loader):.4f}, Accuracy: {train_accuracy/len(train_loader):.4f}\")\n",
    "\n",
    "        train_loss /= len(train_loader)\n",
    "        train_losses.append(train_loss)\n",
    "        train_accuracies.append(train_accuracy / len(train_loader)) # Store average batch accuracy\n",
    "\n",
    "\n",
    "\n",
    "        ### Validation\n",
    "        model.eval()\n",
    "        #############################################################\n",
    "        #                      Your code here                       #\n",
    "        #############################################################\n",
    "        val_loss = 0.0\n",
    "        val_accuracy = 0.0\n",
    "        with torch.no_grad():\n",
    "            for images, labels in val_loader:\n",
    "                images, labels = images.to(device), labels.to(device)\n",
    "                outputs = model(images)\n",
    "                loss = criterion(outputs, labels)\n",
    "                val_loss += loss.item()\n",
    "                _, predicted = torch.max(outputs.data, 1)\n",
    "                val_accuracy += (predicted == labels).sum().item() / len(labels) # Calculate accuracy for the batch\n",
    "\n",
    "        val_loss /= len(val_loader)\n",
    "        val_losses.append(val_loss)\n",
    "        val_accuracies.append(val_accuracy / len(val_loader)) # Store average batch accuracy\n",
    "        print(f\"Epoch {epoch+1}/{num_epochs}, Validation Loss: {val_loss:.4f}, Validation Accuracy: {val_accuracy/len(val_loader):.4f}\")\n",
    "\n",
    "\n",
    "    return train_losses, val_losses, train_accuracies, val_accuracies, model"
   ]
  },
  {
   "cell_type": "code",
   "execution_count": 7,
   "id": "e88f9baf-bbd4-4cfb-b9fb-230fb57e73c9",
   "metadata": {
    "id": "e88f9baf-bbd4-4cfb-b9fb-230fb57e73c9"
   },
   "outputs": [
    {
     "name": "stdout",
     "output_type": "stream",
     "text": [
      "Epoch 1/10, Loss: 1.2695, Accuracy: 0.5643\n",
      "Epoch 1/10, Validation Loss: 1.3113, Validation Accuracy: 0.5442\n",
      "Epoch 2/10, Loss: 1.1956, Accuracy: 0.5895\n",
      "Epoch 2/10, Validation Loss: 1.1584, Validation Accuracy: 0.5725\n",
      "Epoch 3/10, Loss: 1.1763, Accuracy: 0.5925\n",
      "Epoch 3/10, Validation Loss: 1.1616, Validation Accuracy: 0.5917\n",
      "Epoch 4/10, Loss: 1.1689, Accuracy: 0.5951\n",
      "Epoch 4/10, Validation Loss: 1.1596, Validation Accuracy: 0.5896\n",
      "Epoch 5/10, Loss: 1.1588, Accuracy: 0.5942\n",
      "Epoch 5/10, Validation Loss: 1.1251, Validation Accuracy: 0.6094\n",
      "Epoch 6/10, Loss: 1.1429, Accuracy: 0.6016\n",
      "Epoch 6/10, Validation Loss: 1.1020, Validation Accuracy: 0.5965\n",
      "Epoch 7/10, Loss: 1.1189, Accuracy: 0.6156\n",
      "Epoch 7/10, Validation Loss: 1.0967, Validation Accuracy: 0.6059\n",
      "Epoch 8/10, Loss: 1.1141, Accuracy: 0.6182\n",
      "Epoch 8/10, Validation Loss: 1.1269, Validation Accuracy: 0.6130\n",
      "Epoch 9/10, Loss: 1.1027, Accuracy: 0.6220\n",
      "Epoch 9/10, Validation Loss: 1.0681, Validation Accuracy: 0.6362\n",
      "Epoch 10/10, Loss: 1.1040, Accuracy: 0.6252\n",
      "Epoch 10/10, Validation Loss: 1.1027, Validation Accuracy: 0.6436\n"
     ]
    },
    {
     "data": {
      "image/png": "[encoded data removed]",
      "text/plain": [
       "<Figure size 864x288 with 2 Axes>"
      ]
     },
     "metadata": {
      "needs_background": "light"
     },
     "output_type": "display_data"
    }
   ],
   "source": [
    "### Train the model\n",
    "train_losses, val_losses, train_accuracies, val_accuracies, model = train_model(model, train_loader, val_loader, criterion, optimizer)\n",
    "\n",
    "### We will save the model, in part 2 we gonna use it!\n",
    "torch.save(model.state_dict(), 'BDD_weights_full_dataset.pth')\n",
    "\n",
    "### Plot results. This is a naive plot, you are encouraged to improve it!\n",
    "plt.figure(figsize=(12, 4))\n",
    "plt.subplot(1, 2, 1)\n",
    "plt.plot(train_losses, label='Train Loss')\n",
    "plt.plot(val_losses, label='Validation Loss')\n",
    "plt.title('Model Loss')\n",
    "plt.xlabel('Epoch')\n",
    "plt.ylabel('Loss')\n",
    "plt.legend()\n",
    "\n",
    "plt.subplot(1, 2, 2)\n",
    "plt.plot(train_accuracies, label='Train Accuracy')\n",
    "plt.plot(val_accuracies, label='Validation Accuracy')\n",
    "plt.title('Model Accuracy')\n",
    "plt.xlabel('Epoch')\n",
    "plt.ylabel('Accuracy')\n",
    "plt.legend()\n",
    "\n",
    "plt.tight_layout()\n",
    "plt.show()"
   ]
  },
  {
   "cell_type": "markdown",
   "id": "89291351-d6c7-4e2d-8a1a-af3e856ff503",
   "metadata": {
    "id": "89291351-d6c7-4e2d-8a1a-af3e856ff503"
   },
   "source": [
    "### [0 points] Step 5: Start training the model!"
   ]
  },
  {
   "cell_type": "code",
   "execution_count": null,
   "id": "e41537b6-f08d-4056-a081-1d20d8b8bc2e",
   "metadata": {
    "id": "e41537b6-f08d-4056-a081-1d20d8b8bc2e"
   },
   "outputs": [
    {
     "name": "stdout",
     "output_type": "stream",
     "text": [
      "yourCNN(\n",
      "  (conv_layers): Sequential(\n",
      "    (0): Conv2d(3, 32, kernel_size=(3, 3), stride=(1, 1), padding=(1, 1))\n",
      "    (1): ReLU()\n",
      "    (2): Conv2d(32, 64, kernel_size=(3, 3), stride=(1, 1), padding=(1, 1))\n",
      "    (3): BatchNorm2d(64, eps=1e-05, momentum=0.1, affine=True, track_running_stats=True)\n",
      "    (4): ReLU()\n",
      "    (5): MaxPool2d(kernel_size=2, stride=2, padding=0, dilation=1, ceil_mode=False)\n",
      "    (6): Conv2d(64, 128, kernel_size=(3, 3), stride=(1, 1), padding=(1, 1))\n",
      "    (7): BatchNorm2d(128, eps=1e-05, momentum=0.1, affine=True, track_running_stats=True)\n",
      "    (8): ReLU()\n",
      "    (9): MaxPool2d(kernel_size=2, stride=2, padding=0, dilation=1, ceil_mode=False)\n",
      "    (10): Conv2d(128, 256, kernel_size=(3, 3), stride=(1, 1), padding=(1, 1))\n",
      "    (11): BatchNorm2d(256, eps=1e-05, momentum=0.1, affine=True, track_running_stats=True)\n",
      "    (12): ReLU()\n",
      "    (13): MaxPool2d(kernel_size=2, stride=2, padding=0, dilation=1, ceil_mode=False)\n",
      "    (14): Conv2d(256, 512, kernel_size=(3, 3), stride=(1, 1), padding=(1, 1))\n",
      "    (15): BatchNorm2d(512, eps=1e-05, momentum=0.1, affine=True, track_running_stats=True)\n",
      "    (16): ReLU()\n",
      "    (17): MaxPool2d(kernel_size=2, stride=2, padding=0, dilation=1, ceil_mode=False)\n",
      "    (18): Conv2d(512, 512, kernel_size=(3, 3), stride=(1, 1), padding=(1, 1))\n",
      "    (19): BatchNorm2d(512, eps=1e-05, momentum=0.1, affine=True, track_running_stats=True)\n",
      "    (20): ReLU()\n",
      "    (21): MaxPool2d(kernel_size=2, stride=2, padding=0, dilation=1, ceil_mode=False)\n",
      "  )\n",
      "  (fc_layers): Sequential(\n",
      "    (0): AdaptiveAvgPool2d(output_size=1)\n",
      "    (1): Flatten(start_dim=1, end_dim=-1)\n",
      "    (2): Linear(in_features=512, out_features=1024, bias=True)\n",
      "    (3): ReLU()\n",
      "    (4): Dropout(p=0.5, inplace=False)\n",
      "    (5): Linear(in_features=1024, out_features=512, bias=True)\n",
      "    (6): ReLU()\n",
      "    (7): Dropout(p=0.5, inplace=False)\n",
      "    (8): Linear(in_features=512, out_features=7, bias=True)\n",
      "  )\n",
      ")\n"
     ]
    }
   ],
   "source": [
    "import torch\n",
    "import torch.nn as nn\n",
    "\n",
    "# Define the original CNN architecture\n",
    "class yourCNN(nn.Module):\n",
    "    def __init__(self, num_classes=200):  # Original num_classes=200\n",
    "        super(yourCNN, self).__init__()\n",
    "\n",
    "        self.conv_layers = nn.Sequential(\n",
    "            nn.Conv2d(3, 32, kernel_size=3, padding=1),\n",
    "            nn.ReLU(),\n",
    "            nn.Conv2d(32, 64, kernel_size=3, padding=1),\n",
    "            nn.BatchNorm2d(64),\n",
    "            nn.ReLU(),\n",
    "            nn.MaxPool2d(kernel_size=2, stride=2),\n",
    "\n",
    "            nn.Conv2d(64, 128, kernel_size=3, padding=1),\n",
    "            nn.BatchNorm2d(128),\n",
    "            nn.ReLU(),\n",
    "            nn.MaxPool2d(kernel_size=2, stride=2),\n",
    "\n",
    "            nn.Conv2d(128, 256, kernel_size=3, padding=1),\n",
    "            nn.BatchNorm2d(256),\n",
    "            nn.ReLU(),\n",
    "            nn.MaxPool2d(kernel_size=2, stride=2),\n",
    "\n",
    "            nn.Conv2d(256, 512, kernel_size=3, padding=1),\n",
    "            nn.BatchNorm2d(512),\n",
    "            nn.ReLU(),\n",
    "            nn.MaxPool2d(kernel_size=2, stride=2),\n",
    "\n",
    "            nn.Conv2d(512, 512, kernel_size=3, padding=1),\n",
    "            nn.BatchNorm2d(512),\n",
    "            nn.ReLU(),\n",
    "            nn.MaxPool2d(kernel_size=2, stride=2)\n",
    "        )\n",
    "\n",
    "        self.fc_layers = nn.Sequential(\n",
    "            nn.AdaptiveAvgPool2d(1),  # Global pooling\n",
    "            nn.Flatten(),\n",
    "            nn.Linear(512, 1024),\n",
    "            nn.ReLU(),\n",
    "            nn.Dropout(0.5),\n",
    "            nn.Linear(1024, 512),\n",
    "            nn.ReLU(),\n",
    "            nn.Dropout(0.5),\n",
    "            nn.Linear(512, num_classes)  # Last layer\n",
    "        )\n",
    "\n",
    "    def forward(self, x):\n",
    "        x = self.conv_layers(x)\n",
    "        x = self.fc_layers(x)\n",
    "        return x\n",
    "\n",
    "\n",
    "# Load the pre-trained model\n",
    "model_ft = yourCNN(num_classes=200)  # Define model with original 200 classes\n",
    "model_ft.load_state_dict(torch.load(\"CNN_weights_full_dataset.pth\"))  # Load weights\n",
    "\n",
    "# Modify the last layer for 7 classes\n",
    "in_features = model_ft.fc_layers[-1].in_features  # Get last layer input size\n",
    "model_ft.fc_layers[-1] = nn.Linear(in_features, 7)  # Change to 7 classes\n",
    "\n",
    "# Move model to GPU/CPU\n",
    "device = torch.device(\"cuda\" if torch.cuda.is_available() else \"cpu\")\n",
    "model_ft = model_ft.to(device)\n",
    "\n",
    "# **Do NOT freeze any layers** (Train everything)\n",
    "for param in model_ft.parameters():\n",
    "    param.requires_grad = True  # Ensure all layers are trainable\n",
    "\n",
    "# Define optimizer and loss function\n",
    "optimizer = torch.optim.Adam(model_ft.parameters(), lr=0.001)  # Train all params\n",
    "criterion = nn.CrossEntropyLoss()\n",
    "\n",
    "# Print modified model\n",
    "print(model_ft)\n"
   ]
  },
  {
   "cell_type": "code",
   "execution_count": null,
   "id": "44cb3745",
   "metadata": {},
   "outputs": [
    {
     "name": "stdout",
     "output_type": "stream",
     "text": [
      "Epoch 1/10, Loss: 0.9145, Accuracy: 0.6924\n",
      "Epoch 1/10, Validation Loss: 0.7744, Validation Accuracy: 0.7400\n",
      "Epoch 2/10, Loss: 0.7480, Accuracy: 0.7509\n",
      "Epoch 2/10, Validation Loss: 0.7109, Validation Accuracy: 0.7575\n",
      "Epoch 3/10, Loss: 0.6777, Accuracy: 0.7741\n",
      "Epoch 3/10, Validation Loss: 0.8229, Validation Accuracy: 0.7137\n",
      "Epoch 4/10, Loss: 0.6075, Accuracy: 0.7961\n",
      "Epoch 4/10, Validation Loss: 0.7392, Validation Accuracy: 0.7539\n",
      "Epoch 5/10, Loss: 0.5359, Accuracy: 0.8193\n",
      "Epoch 5/10, Validation Loss: 0.7507, Validation Accuracy: 0.7609\n",
      "Epoch 6/10, Loss: 0.4411, Accuracy: 0.8502\n",
      "Epoch 6/10, Validation Loss: 0.8397, Validation Accuracy: 0.7561\n",
      "Epoch 7/10, Loss: 0.3542, Accuracy: 0.8789\n",
      "Epoch 7/10, Validation Loss: 0.9025, Validation Accuracy: 0.7336\n",
      "Epoch 8/10, Loss: 0.2759, Accuracy: 0.9061\n",
      "Epoch 8/10, Validation Loss: 1.0969, Validation Accuracy: 0.7249\n",
      "Epoch 9/10, Loss: 0.2132, Accuracy: 0.9284\n",
      "Epoch 9/10, Validation Loss: 1.0989, Validation Accuracy: 0.7355\n",
      "Epoch 10/10, Loss: 0.1695, Accuracy: 0.9422\n",
      "Epoch 10/10, Validation Loss: 1.3362, Validation Accuracy: 0.7214\n"
     ]
    },
    {
     "data": {
      "image/png": "[encoded data removed]",
      "text/plain": [
       "<Figure size 864x288 with 2 Axes>"
      ]
     },
     "metadata": {
      "needs_background": "light"
     },
     "output_type": "display_data"
    }
   ],
   "source": [
    "### Train the model\n",
    "train_losses, val_losses, train_accuracies, val_accuracies, model = train_model(model_ft, train_loader, val_loader, criterion, optimizer)\n",
    "\n",
    "### We will save the model, in part 2 we gonna use it!\n",
    "torch.save(model_ft.state_dict(), 'BDD_weights_full_dataset_transfer.pth')\n",
    "\n",
    "### Plot results. This is a naive plot, you are encouraged to improve it!\n",
    "plt.figure(figsize=(12, 4))\n",
    "plt.subplot(1, 2, 1)\n",
    "plt.plot(train_losses, label='Train Loss')\n",
    "plt.plot(val_losses, label='Validation Loss')\n",
    "plt.title('Model Loss')\n",
    "plt.xlabel('Epoch')\n",
    "plt.ylabel('Loss')\n",
    "plt.legend()\n",
    "\n",
    "plt.subplot(1, 2, 2)\n",
    "plt.plot(train_accuracies, label='Train Accuracy')\n",
    "plt.plot(val_accuracies, label='Validation Accuracy')\n",
    "plt.title('Model Accuracy')\n",
    "plt.xlabel('Epoch')\n",
    "plt.ylabel('Accuracy')\n",
    "plt.legend()\n",
    "\n",
    "plt.tight_layout()\n",
    "plt.show()"
   ]
  },
  {
   "cell_type": "markdown",
   "id": "a2a89953-3da6-4cd5-92cc-bde8eb87d9f3",
   "metadata": {
    "id": "a2a89953-3da6-4cd5-92cc-bde8eb87d9f3"
   },
   "source": [
    "### [5 points] Step 6: Evaluate your model on testing set and plot the confusion matrix\n",
    "In this part, you will learn to evaluate a trained model on testing set, and plot the confusion matrix.\n",
    "Ideally, a great classification model would have non-zero values only along the diagonal, with zeros in all off-diagonal elements.\n",
    "\n",
    "**HINTS**\n",
    "1. Remember to perform the same transforms to your testing set as the validation set.\n",
    "2. In ```get_predictions```, it is basically the same as you do evaluation."
   ]
  },
  {
   "cell_type": "code",
   "execution_count": 15,
   "id": "d1617333-3581-4c3e-8446-0942b34c1530",
   "metadata": {
    "id": "d1617333-3581-4c3e-8446-0942b34c1530"
   },
   "outputs": [
    {
     "name": "stdout",
     "output_type": "stream",
     "text": [
      "Test dataset size: 10000\n",
      "Predictions: [0 0 3 ... 6 2 2]\n",
      "True labels: [0 0 0 ... 6 6 6]\n",
      "Confusion Matrix:\n",
      "[[5204    0   50   25    0    0   67]\n",
      " [   8    0    3    1    0    0    1]\n",
      " [ 355    0  643  116    0    0  125]\n",
      " [ 453    0  205   67    0    0   13]\n",
      " [ 368    0  241   25    0    0  104]\n",
      " [ 582    0   92   16    0    0   79]\n",
      " [ 301    0  254   38    0    0  564]]\n",
      "Test Accuracy: 0.6478\n"
     ]
    }
   ],
   "source": [
    "model.load_state_dict(torch.load('BDD_weights_full_dataset.pth'))\n",
    "\n",
    "# Change model to evaluation phase\n",
    "model.eval()\n",
    "\n",
    "# Function to get predictions and true labels\n",
    "def get_predictions(model, dataloader):\n",
    "    #############################################################\n",
    "    #                      Your code here                       #\n",
    "    #############################################################\n",
    "    all_predictions = []\n",
    "    all_labels = []\n",
    "    with torch.no_grad():\n",
    "        for images, labels in dataloader:\n",
    "            images, labels = images.to(device), labels.to(device)\n",
    "            outputs = model(images)\n",
    "            _, predicted = torch.max(outputs, 1)\n",
    "            all_predictions.extend(predicted.cpu().numpy())\n",
    "            all_labels.extend(labels.cpu().numpy())\n",
    "    return np.array(all_predictions), np.array(all_labels)\n",
    "\n",
    "\n",
    "### Get predictions and true labels\n",
    "print(f\"Test dataset size: {len(test_loader.dataset)}\")\n",
    "\n",
    "predictions, true_labels = get_predictions(model, test_loader)\n",
    "print(\"Predictions:\", predictions)\n",
    "print(\"True labels:\", true_labels)\n",
    " \n",
    "cm = confusion_matrix(true_labels, predictions)\n",
    "print(\"Confusion Matrix:\")\n",
    "print(cm)\n",
    "#############################################################\n",
    "\n",
    "### Calculate accuracy\n",
    "accuracy = (predictions == true_labels).mean()\n",
    "print(f\"Test Accuracy: {accuracy:.4f}\")"
   ]
  },
  {
   "cell_type": "code",
   "execution_count": 16,
   "id": "7bfdeee7",
   "metadata": {},
   "outputs": [
    {
     "name": "stdout",
     "output_type": "stream",
     "text": [
      "Test dataset size: 10000\n",
      "Predictions: [0 0 4 ... 6 2 2]\n",
      "True labels: [0 0 0 ... 6 6 6]\n",
      "Confusion Matrix:\n",
      "[[4570    2  124  170   55  257  168]\n",
      " [   8    0    2    0    2    0    1]\n",
      " [  89    0  792  121   25   14  198]\n",
      " [ 140    0  170  380    0   18   30]\n",
      " [ 148    0  120    2  349   40   79]\n",
      " [ 177    0   49   27   27  407   82]\n",
      " [ 131    0  190   17   21   21  777]]\n",
      "Test Accuracy: 0.7275\n"
     ]
    }
   ],
   "source": [
    "############################### Test Data Loader ##############################\n",
    "###############################################################################\n",
    "#                                 Your code here                              #\n",
    "###############################################################################\n",
    "\n",
    "### If you don't want to train the model again, you can restore it!\n",
    "model.load_state_dict(torch.load('BDD_weights_full_dataset_transfer.pth'))\n",
    "\n",
    "# Change model to evaluation phase\n",
    "model.eval()\n",
    "\n",
    "# Function to get predictions and true labels\n",
    "def get_predictions(model, dataloader):\n",
    "    #############################################################\n",
    "    #                      Your code here                       #\n",
    "    #############################################################\n",
    "    all_predictions = []\n",
    "    all_labels = []\n",
    "    with torch.no_grad():\n",
    "        for images, labels in dataloader:\n",
    "            images, labels = images.to(device), labels.to(device)\n",
    "            outputs = model(images)\n",
    "            _, predicted = torch.max(outputs, 1)\n",
    "            all_predictions.extend(predicted.cpu().numpy())\n",
    "            all_labels.extend(labels.cpu().numpy())\n",
    "    return np.array(all_predictions), np.array(all_labels)\n",
    "\n",
    "\n",
    "### Get predictions and true labels\n",
    "print(f\"Test dataset size: {len(test_loader.dataset)}\")\n",
    "\n",
    "predictions, true_labels = get_predictions(model, test_loader)\n",
    "print(\"Predictions:\", predictions)\n",
    "print(\"True labels:\", true_labels)\n",
    "################# Compute confusion matrix ##################\n",
    "#############################################################\n",
    "# cm = ?\n",
    "cm = confusion_matrix(true_labels, predictions)\n",
    "print(\"Confusion Matrix:\")\n",
    "print(cm)\n",
    "#############################################################\n",
    "\n",
    "### Calculate accuracy\n",
    "accuracy = (predictions == true_labels).mean()\n",
    "print(f\"Test Accuracy: {accuracy:.4f}\")"
   ]
  },
  {
   "cell_type": "code",
   "execution_count": 20,
   "id": "18b94eee",
   "metadata": {},
   "outputs": [
    {
     "name": "stdout",
     "output_type": "stream",
     "text": [
      "yourCNN(\n",
      "  (conv_layers): Sequential(\n",
      "    (0): Conv2d(3, 32, kernel_size=(3, 3), stride=(1, 1), padding=(1, 1))\n",
      "    (1): ReLU()\n",
      "    (2): Conv2d(32, 64, kernel_size=(3, 3), stride=(1, 1), padding=(1, 1))\n",
      "    (3): BatchNorm2d(64, eps=1e-05, momentum=0.1, affine=True, track_running_stats=True)\n",
      "    (4): ReLU()\n",
      "    (5): MaxPool2d(kernel_size=2, stride=2, padding=0, dilation=1, ceil_mode=False)\n",
      "    (6): Conv2d(64, 128, kernel_size=(3, 3), stride=(1, 1), padding=(1, 1))\n",
      "    (7): BatchNorm2d(128, eps=1e-05, momentum=0.1, affine=True, track_running_stats=True)\n",
      "    (8): ReLU()\n",
      "    (9): MaxPool2d(kernel_size=2, stride=2, padding=0, dilation=1, ceil_mode=False)\n",
      "    (10): Conv2d(128, 256, kernel_size=(3, 3), stride=(1, 1), padding=(1, 1))\n",
      "    (11): BatchNorm2d(256, eps=1e-05, momentum=0.1, affine=True, track_running_stats=True)\n",
      "    (12): ReLU()\n",
      "    (13): MaxPool2d(kernel_size=2, stride=2, padding=0, dilation=1, ceil_mode=False)\n",
      "    (14): Conv2d(256, 512, kernel_size=(3, 3), stride=(1, 1), padding=(1, 1))\n",
      "    (15): BatchNorm2d(512, eps=1e-05, momentum=0.1, affine=True, track_running_stats=True)\n",
      "    (16): ReLU()\n",
      "    (17): MaxPool2d(kernel_size=2, stride=2, padding=0, dilation=1, ceil_mode=False)\n",
      "    (18): Conv2d(512, 512, kernel_size=(3, 3), stride=(1, 1), padding=(1, 1))\n",
      "    (19): BatchNorm2d(512, eps=1e-05, momentum=0.1, affine=True, track_running_stats=True)\n",
      "    (20): ReLU()\n",
      "    (21): MaxPool2d(kernel_size=2, stride=2, padding=0, dilation=1, ceil_mode=False)\n",
      "  )\n",
      "  (fc_layers): Sequential(\n",
      "    (0): AdaptiveAvgPool2d(output_size=1)\n",
      "    (1): Flatten(start_dim=1, end_dim=-1)\n",
      "    (2): Linear(in_features=512, out_features=1024, bias=True)\n",
      "    (3): ReLU()\n",
      "    (4): Dropout(p=0.5, inplace=False)\n",
      "    (5): Linear(in_features=1024, out_features=512, bias=True)\n",
      "    (6): ReLU()\n",
      "    (7): Dropout(p=0.5, inplace=False)\n",
      "    (8): Linear(in_features=512, out_features=7, bias=True)\n",
      "  )\n",
      ")\n"
     ]
    }
   ],
   "source": [
    "# Define model with original 200 classes\n",
    "model_ft_f = yourCNN(num_classes=200)\n",
    "model_ft_f.load_state_dict(torch.load(\"CNN_weights_full_dataset.pth\"))  # Load weights\n",
    "\n",
    "# Modify the last layer for 7 classes\n",
    "in_features = model_ft_f.fc_layers[-1].in_features  # Get last layer input size\n",
    "model_ft_f.fc_layers[-1] = nn.Linear(in_features, 7)  # Change to 7 classes\n",
    "\n",
    "# Move model to GPU/CPU\n",
    "device = torch.device(\"cuda\" if torch.cuda.is_available() else \"cpu\")\n",
    "model_ft_f = model_ft_f.to(device)\n",
    "\n",
    "# **Freeze all layers except the last layer**\n",
    "for param in model_ft_f.parameters():\n",
    "    param.requires_grad = False  # Freeze all layers\n",
    "\n",
    "# Unfreeze the last layer (the one that was modified to have 7 output classes)\n",
    "for param in model_ft_f.fc_layers[-1].parameters():\n",
    "    param.requires_grad = True  # Unfreeze the last layer\n",
    "\n",
    "# Define optimizer and loss function\n",
    "optimizer = torch.optim.Adam(model_ft_f.parameters(), lr=0.001)  # Train only last layer\n",
    "criterion = nn.CrossEntropyLoss()\n",
    "\n",
    "# Print modified model\n",
    "print(model_ft_f)\n"
   ]
  },
  {
   "cell_type": "code",
   "execution_count": 22,
   "id": "524342ec",
   "metadata": {},
   "outputs": [
    {
     "name": "stdout",
     "output_type": "stream",
     "text": [
      "Epoch 1/10, Loss: 1.3651, Accuracy: 0.5362\n",
      "Epoch 1/10, Validation Loss: 1.2792, Validation Accuracy: 0.5535\n",
      "Epoch 2/10, Loss: 1.3110, Accuracy: 0.5388\n",
      "Epoch 2/10, Validation Loss: 1.2466, Validation Accuracy: 0.5572\n",
      "Epoch 3/10, Loss: 1.3042, Accuracy: 0.5405\n",
      "Epoch 3/10, Validation Loss: 1.2379, Validation Accuracy: 0.5593\n",
      "Epoch 4/10, Loss: 1.3020, Accuracy: 0.5403\n",
      "Epoch 4/10, Validation Loss: 1.2288, Validation Accuracy: 0.5592\n",
      "Epoch 5/10, Loss: 1.2992, Accuracy: 0.5402\n",
      "Epoch 5/10, Validation Loss: 1.2304, Validation Accuracy: 0.5559\n",
      "Epoch 6/10, Loss: 1.2985, Accuracy: 0.5380\n",
      "Epoch 6/10, Validation Loss: 1.2265, Validation Accuracy: 0.5607\n",
      "Epoch 7/10, Loss: 1.2976, Accuracy: 0.5398\n",
      "Epoch 7/10, Validation Loss: 1.2293, Validation Accuracy: 0.5585\n",
      "Epoch 8/10, Loss: 1.2973, Accuracy: 0.5390\n",
      "Epoch 8/10, Validation Loss: 1.2308, Validation Accuracy: 0.5590\n",
      "Epoch 9/10, Loss: 1.2966, Accuracy: 0.5398\n",
      "Epoch 9/10, Validation Loss: 1.2232, Validation Accuracy: 0.5612\n",
      "Epoch 10/10, Loss: 1.2985, Accuracy: 0.5401\n",
      "Epoch 10/10, Validation Loss: 1.2232, Validation Accuracy: 0.5564\n"
     ]
    },
    {
     "data": {
      "image/png": "[encoded data removed]",
      "text/plain": [
       "<Figure size 864x288 with 2 Axes>"
      ]
     },
     "metadata": {
      "needs_background": "light"
     },
     "output_type": "display_data"
    }
   ],
   "source": [
    "### Train the model\n",
    "train_losses, val_losses, train_accuracies, val_accuracies, model = train_model(model_ft_f, train_loader, val_loader, criterion, optimizer)\n",
    "\n",
    "### We will save the model, in part 2 we gonna use it!\n",
    "torch.save(model_ft_f.state_dict(), 'BDD_weights_full_dataset_transfer.pth')\n",
    "\n",
    "### Plot results. This is a naive plot, you are encouraged to improve it!\n",
    "plt.figure(figsize=(12, 4))\n",
    "plt.subplot(1, 2, 1)\n",
    "plt.plot(train_losses, label='Train Loss')\n",
    "plt.plot(val_losses, label='Validation Loss')\n",
    "plt.title('Model Loss')\n",
    "plt.xlabel('Epoch')\n",
    "plt.ylabel('Loss')\n",
    "plt.legend()\n",
    "\n",
    "plt.subplot(1, 2, 2)\n",
    "plt.plot(train_accuracies, label='Train Accuracy')\n",
    "plt.plot(val_accuracies, label='Validation Accuracy')\n",
    "plt.title('Model Accuracy')\n",
    "plt.xlabel('Epoch')\n",
    "plt.ylabel('Accuracy')\n",
    "plt.legend()\n",
    "\n",
    "plt.tight_layout()\n",
    "plt.show()"
   ]
  },
  {
   "cell_type": "markdown",
   "id": "9018a4a5-a83b-408f-b78b-83ee0c566173",
   "metadata": {
    "id": "9018a4a5-a83b-408f-b78b-83ee0c566173"
   },
   "source": [
    "### Questions\n",
    "1. [5 points] What did you observe from the two approaches? Does finetuning really train faster in this case?\n",
    "Sol Yes I have Observed that the fine tuning really helps a lot it made a siginificant difference in test acurracy.\n",
    "2. [5 points] In the above implemetation, the whole model is finetuned to downstream task. Can we just finetune the last fc layer? That is, can we freeze all the weights except the last fc layer during training? Please implement it and analyze the performance.\n",
    "Sol) We Can finetun last layer but the performance is not good an dthe accuracy is not improving which is stucking."
   ]
  },
  {
   "cell_type": "code",
   "execution_count": 23,
   "id": "1e598fe1",
   "metadata": {},
   "outputs": [
    {
     "name": "stdout",
     "output_type": "stream",
     "text": [
      "Test dataset size: 10000\n",
      "Predictions: [0 0 0 ... 0 0 0]\n",
      "True labels: [0 0 0 ... 6 6 6]\n",
      "Confusion Matrix:\n",
      "[[5254    0   26    0    1    1   64]\n",
      " [  13    0    0    0    0    0    0]\n",
      " [1085    0   67    0    0    0   87]\n",
      " [ 701    0   20    1    0    0   16]\n",
      " [ 666    0   14    0    7    0   51]\n",
      " [ 717    0   16    0    3    1   32]\n",
      " [ 972    0   17    1    2    1  164]]\n",
      "Test Accuracy: 0.5494\n"
     ]
    }
   ],
   "source": [
    "############################### Test Data Loader ##############################\n",
    "###############################################################################\n",
    "#                                 Your code here                              #\n",
    "###############################################################################\n",
    "\n",
    "### If you don't want to train the model again, you can restore it!\n",
    "model.load_state_dict(torch.load('BDD_weights_full_dataset_transfer.pth'))\n",
    "\n",
    "# Change model to evaluation phase\n",
    "model.eval()\n",
    "\n",
    "# Function to get predictions and true labels\n",
    "def get_predictions(model, dataloader):\n",
    "    #############################################################\n",
    "    #                      Your code here                       #\n",
    "    #############################################################\n",
    "    all_predictions = []\n",
    "    all_labels = []\n",
    "    with torch.no_grad():\n",
    "        for images, labels in dataloader:\n",
    "            images, labels = images.to(device), labels.to(device)\n",
    "            outputs = model(images)\n",
    "            _, predicted = torch.max(outputs, 1)\n",
    "            all_predictions.extend(predicted.cpu().numpy())\n",
    "            all_labels.extend(labels.cpu().numpy())\n",
    "    return np.array(all_predictions), np.array(all_labels)\n",
    "\n",
    "\n",
    "### Get predictions and true labels\n",
    "print(f\"Test dataset size: {len(test_loader.dataset)}\")\n",
    "\n",
    "predictions, true_labels = get_predictions(model, test_loader)\n",
    "print(\"Predictions:\", predictions)\n",
    "print(\"True labels:\", true_labels)\n",
    "################# Compute confusion matrix ##################\n",
    "#############################################################\n",
    "# cm = ?\n",
    "cm = confusion_matrix(true_labels, predictions)\n",
    "print(\"Confusion Matrix:\")\n",
    "print(cm)\n",
    "#############################################################\n",
    "\n",
    "### Calculate accuracy\n",
    "accuracy = (predictions == true_labels).mean()\n",
    "print(f\"Test Accuracy: {accuracy:.4f}\")"
   ]
  },
  {
   "cell_type": "code",
   "execution_count": null,
   "id": "08e29973",
   "metadata": {},
   "outputs": [],
   "source": []
  }
 ],
 "metadata": {
  "colab": {
   "provenance": []
  },
  "kernelspec": {
   "display_name": "Python 3",
   "language": "python",
   "name": "python3"
  },
  "language_info": {
   "codemirror_mode": {
    "name": "ipython",
    "version": 3
   },
   "file_extension": ".py",
   "mimetype": "text/x-python",
   "name": "python",
   "nbconvert_exporter": "python",
   "pygments_lexer": "ipython3",
   "version": "3.10.7"
  }
 },
 "nbformat": 4,
 "nbformat_minor": 5
}
